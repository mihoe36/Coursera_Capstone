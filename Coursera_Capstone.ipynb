{
 "cells": [
  {
   "cell_type": "markdown",
   "id": "929eb99d-2eb6-4429-9f06-e8044f252354",
   "metadata": {},
   "source": [
    "## Peer-graded Assignment: Capstone Project Notebook"
   ]
  },
  {
   "cell_type": "markdown",
   "id": "befb6492-327f-46d3-bd57-846cbe18aeef",
   "metadata": {},
   "source": [
    "**1. Write some markdown to explain that this notebook will be mainly used for the capstone project.**"
   ]
  },
  {
   "cell_type": "markdown",
   "id": "f2c89ed6-d94d-4e10-a276-7604ed3adef3",
   "metadata": {},
   "source": [
    "This notebook will be mainly used for the Capstone Project for \"Applied Data Science Capstone\" course on Coursera."
   ]
  },
  {
   "cell_type": "markdown",
   "id": "f791476f-de4c-4925-b80a-b55a6c276318",
   "metadata": {},
   "source": [
    "**2. Import the pandas library as pd.**"
   ]
  },
  {
   "cell_type": "code",
   "execution_count": 4,
   "id": "c65ddc7d-1692-4a86-9765-3e3b2e048b42",
   "metadata": {},
   "outputs": [],
   "source": [
    "import pandas as pd"
   ]
  },
  {
   "cell_type": "markdown",
   "id": "2e90fa9f-3ca5-4407-9f1e-6c9c518270af",
   "metadata": {},
   "source": [
    "**3. Import the Numpy library as np.**"
   ]
  },
  {
   "cell_type": "code",
   "execution_count": 5,
   "id": "c38928fe-896b-4371-9214-45ed71d0562f",
   "metadata": {},
   "outputs": [],
   "source": [
    "import numpy as np"
   ]
  },
  {
   "cell_type": "markdown",
   "id": "48105100-7333-49a8-9472-40a06f3755e3",
   "metadata": {},
   "source": [
    "**4. Print the following the statement: Hello Capstone Project Course!**"
   ]
  },
  {
   "cell_type": "code",
   "execution_count": 6,
   "id": "14ca2d4b-3266-43e1-b42f-2e014e9afa52",
   "metadata": {},
   "outputs": [
    {
     "name": "stdout",
     "output_type": "stream",
     "text": [
      "Hello Capstone Project Course!\n"
     ]
    }
   ],
   "source": [
    "print('Hello Capstone Project Course!')"
   ]
  },
  {
   "cell_type": "code",
   "execution_count": null,
   "id": "8a44efa2-055f-4b39-ab83-9731913c80af",
   "metadata": {},
   "outputs": [],
   "source": []
  },
  {
   "cell_type": "code",
   "execution_count": null,
   "id": "5effb98f-a273-4e1d-9006-7c935a20ed46",
   "metadata": {},
   "outputs": [],
   "source": []
  }
 ],
 "metadata": {
  "kernelspec": {
   "display_name": "Python",
   "language": "python",
   "name": "conda-env-python-py"
  },
  "language_info": {
   "codemirror_mode": {
    "name": "ipython",
    "version": 3
   },
   "file_extension": ".py",
   "mimetype": "text/x-python",
   "name": "python",
   "nbconvert_exporter": "python",
   "pygments_lexer": "ipython3",
   "version": "3.6.13"
  }
 },
 "nbformat": 4,
 "nbformat_minor": 5
}
